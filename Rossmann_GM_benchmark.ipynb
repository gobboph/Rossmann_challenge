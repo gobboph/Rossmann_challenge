{
 "cells": [
  {
   "cell_type": "code",
   "execution_count": 1,
   "metadata": {
    "collapsed": false
   },
   "outputs": [],
   "source": [
    "%matplotlib inline\n",
    "import pandas as pd\n",
    "import csv as csv\n",
    "import numpy as np\n",
    "import xgboost as xgb\n",
    "import scipy"
   ]
  },
  {
   "cell_type": "markdown",
   "metadata": {},
   "source": [
    "I set the geometric mean per store per day of the week as a benchmark for my model."
   ]
  },
  {
   "cell_type": "code",
   "execution_count": 2,
   "metadata": {
    "collapsed": true
   },
   "outputs": [],
   "source": [
    "#Loading data\n",
    "ds    = pd.read_csv('../csv/train.csv', header=0, dtype={'StateHoliday':'str'})\n",
    "store = pd.read_csv('../csv/store.csv', header=0)\n",
    "test  = pd.read_csv('../csv/test.csv', header=0, dtype={'StateHoliday':'str'})"
   ]
  },
  {
   "cell_type": "code",
   "execution_count": 6,
   "metadata": {
    "collapsed": false
   },
   "outputs": [],
   "source": [
    "#Constructing dataframe with geometric mean\n",
    "geomean_benchmark = pd.concat(\n",
    "    [ds[(ds.Sales!=0)&(ds.DayOfWeek!=7)].groupby(['Store','DayOfWeek']).agg({\n",
    "                'Sales':lambda x: np.exp(scipy.stats.mstats.gmean(np.log(x+1)))-1\n",
    "            }),\n",
    "    ds[ds.DayOfWeek==7].groupby(['Store','DayOfWeek']).agg({\n",
    "                'Sales':lambda x: np.exp(scipy.stats.mstats.gmean(np.log(x+1)))-1\n",
    "            })\n",
    "    ]\n",
    ").reset_index()"
   ]
  },
  {
   "cell_type": "code",
   "execution_count": 7,
   "metadata": {
    "collapsed": true
   },
   "outputs": [],
   "source": [
    "geomean_benchmark = pd.merge(geomean_benchmark,test,on=['Store','DayOfWeek'])"
   ]
  },
  {
   "cell_type": "code",
   "execution_count": 8,
   "metadata": {
    "collapsed": false
   },
   "outputs": [
    {
     "data": {
      "text/plain": [
       "41088"
      ]
     },
     "execution_count": 8,
     "metadata": {},
     "output_type": "execute_result"
    }
   ],
   "source": [
    "len(geomean_benchmark)"
   ]
  },
  {
   "cell_type": "code",
   "execution_count": 9,
   "metadata": {
    "collapsed": true
   },
   "outputs": [],
   "source": [
    "#Setting solution dataframe\n",
    "sol = pd.DataFrame({'Id':geomean_benchmark['Id'],'Sales':geomean_benchmark['Sales']})"
   ]
  },
  {
   "cell_type": "code",
   "execution_count": 10,
   "metadata": {
    "collapsed": false
   },
   "outputs": [
    {
     "data": {
      "text/plain": [
       "41088"
      ]
     },
     "execution_count": 10,
     "metadata": {},
     "output_type": "execute_result"
    }
   ],
   "source": [
    "len(sol)"
   ]
  },
  {
   "cell_type": "code",
   "execution_count": 11,
   "metadata": {
    "collapsed": true
   },
   "outputs": [],
   "source": [
    "#Writing file to submit to kaggle with geometric mean benchmark\n",
    "sol.to_csv('sol_GM.csv',index=False)"
   ]
  },
  {
   "cell_type": "code",
   "execution_count": null,
   "metadata": {
    "collapsed": true
   },
   "outputs": [],
   "source": []
  }
 ],
 "metadata": {
  "kernelspec": {
   "display_name": "Python 2",
   "language": "python",
   "name": "python2"
  },
  "language_info": {
   "codemirror_mode": {
    "name": "ipython",
    "version": 2
   },
   "file_extension": ".py",
   "mimetype": "text/x-python",
   "name": "python",
   "nbconvert_exporter": "python",
   "pygments_lexer": "ipython2",
   "version": "2.7.11"
  }
 },
 "nbformat": 4,
 "nbformat_minor": 0
}
