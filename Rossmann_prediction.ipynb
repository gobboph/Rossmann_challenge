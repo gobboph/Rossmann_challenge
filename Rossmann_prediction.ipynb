{
 "cells": [
  {
   "cell_type": "code",
   "execution_count": 1,
   "metadata": {
    "collapsed": false
   },
   "outputs": [
    {
     "name": "stderr",
     "output_type": "stream",
     "text": [
      ":0: FutureWarning: IPython widgets are experimental and may change in the future.\n"
     ]
    }
   ],
   "source": [
    "%matplotlib inline\n",
    "import pandas as pd\n",
    "import csv as csv\n",
    "import numpy as np\n",
    "from matplotlib import pyplot as plt\n",
    "import seaborn as sns\n",
    "#from sklearn import datasets, linear_model\n",
    "import matplotlib\n",
    "import matplotlib.pylab as pl\n",
    "import xgboost as xgb"
   ]
  },
  {
   "cell_type": "code",
   "execution_count": 2,
   "metadata": {
    "collapsed": true
   },
   "outputs": [],
   "source": [
    "#Loading data, the files are in a folder called 'csv'\n",
    "ds    = pd.read_csv('../csv/train.csv', header=0, dtype={'StateHoliday':'str'})\n",
    "store = pd.read_csv('../csv/store.csv', header=0)\n",
    "test  = pd.read_csv('../csv/test.csv', header=0, dtype={'StateHoliday':'str'})"
   ]
  },
  {
   "cell_type": "code",
   "execution_count": 3,
   "metadata": {
    "collapsed": true
   },
   "outputs": [],
   "source": [
    "#Not necessary, but I like it better this way\n",
    "ds.columns = [x.lower() for x in ds.columns]\n",
    "store.columns = [x.lower() for x in store.columns]\n",
    "test.columns  = [x.lower() for x in test.columns]"
   ]
  },
  {
   "cell_type": "code",
   "execution_count": 4,
   "metadata": {
    "collapsed": true
   },
   "outputs": [],
   "source": [
    "#string --> datetime\n",
    "ds.date = pd.to_datetime(ds.date)\n",
    "test.date = pd.to_datetime(test.date)"
   ]
  },
  {
   "cell_type": "code",
   "execution_count": 5,
   "metadata": {
    "collapsed": true
   },
   "outputs": [],
   "source": [
    "#Excluding the first day as discussed in the the Exploratory Analysis\n",
    "ds = ds[ds.date>ds.date.min()]"
   ]
  },
  {
   "cell_type": "code",
   "execution_count": 6,
   "metadata": {
    "collapsed": true
   },
   "outputs": [],
   "source": [
    "#Dropping some columns as from the assignment. I will still keep some that the assignemnt asks to drop\n",
    "#as they might turn out useful for the moment. I might drop them later\n",
    "ds = ds.drop(['stateholiday','schoolholiday'],axis=1)\n",
    "store = store.drop([\n",
    "        'assortment','competitionopensincemonth','competitionopensinceyear',\\\n",
    "        'promo2','promo2sinceweek','promo2sinceyear','promointerval'\n",
    "    ],axis=1)"
   ]
  },
  {
   "cell_type": "code",
   "execution_count": 7,
   "metadata": {
    "collapsed": true
   },
   "outputs": [],
   "source": [
    "test.drop(['stateholiday','schoolholiday'],axis=1, inplace=True)"
   ]
  },
  {
   "cell_type": "code",
   "execution_count": 8,
   "metadata": {
    "collapsed": true
   },
   "outputs": [],
   "source": [
    "#Merging datasets\n",
    "ds = pd.merge(ds,store,on='store')\n",
    "test = pd.merge(test,store,on='store')"
   ]
  },
  {
   "cell_type": "code",
   "execution_count": 9,
   "metadata": {
    "collapsed": false
   },
   "outputs": [
    {
     "data": {
      "text/plain": [
       "11"
      ]
     },
     "execution_count": 9,
     "metadata": {},
     "output_type": "execute_result"
    }
   ],
   "source": [
    "#Checking for NaN's in the test file\n",
    "len(test[test.open!=test.open])"
   ]
  },
  {
   "cell_type": "code",
   "execution_count": 10,
   "metadata": {
    "collapsed": true
   },
   "outputs": [],
   "source": [
    "#Populating the NaN's setting them open\n",
    "test.loc[test.open!=test.open,'open']=1"
   ]
  },
  {
   "cell_type": "code",
   "execution_count": 11,
   "metadata": {
    "collapsed": true
   },
   "outputs": [],
   "source": [
    "#There are some NaN's in the competition distance as shown in the exploratory file\n",
    "ds.fillna(0,inplace=True)\n",
    "test.fillna(0,inplace=True)"
   ]
  },
  {
   "cell_type": "markdown",
   "metadata": {},
   "source": [
    "Description and analysis is done in Exploratory Analisys file. I will concentrate on modelling in this file."
   ]
  },
  {
   "cell_type": "markdown",
   "metadata": {},
   "source": [
    "New features will be year, month, day of the month, easily extracted from date. I will not considered lagged values now as they are very time consuming to compute and might lead to accumulating error when I have to compute them day by day in the test for 6 weeks."
   ]
  },
  {
   "cell_type": "markdown",
   "metadata": {},
   "source": [
    "I will also count the number of days since the survey started and will attach to each store the average number of customers, the average nuber of customers per month and the average number of customers per year"
   ]
  },
  {
   "cell_type": "markdown",
   "metadata": {},
   "source": [
    "I will semplify the situation by assuming that all stores are closed on Sunday, as argued in the Exploratory Analysis file this affect very few stores (~.1% of the whole set). I will then exclude Sundays from the analysis for the time being. NOTE: of course this will affect predictions for the stores open on Sundays. The best prediction for Sunday though is sales=0, as most of the stores are closed."
   ]
  },
  {
   "cell_type": "code",
   "execution_count": 12,
   "metadata": {
    "collapsed": true
   },
   "outputs": [],
   "source": [
    "min_date = ds.date.min()"
   ]
  },
  {
   "cell_type": "code",
   "execution_count": 13,
   "metadata": {
    "collapsed": true
   },
   "outputs": [],
   "source": [
    "ds['year'] = ds.date.apply(lambda x:float(x.year))\n",
    "ds['month'] = ds.date.apply(lambda x: float(x.month))\n",
    "ds['dayofmonth'] = ds.date.apply(lambda x: float(x.day))\n",
    "\n",
    "test['year'] = test.date.apply(lambda x:float(x.year))\n",
    "test['month'] = test.date.apply(lambda x: float(x.month))\n",
    "test['dayofmonth'] = test.date.apply(lambda x: float(x.day))"
   ]
  },
  {
   "cell_type": "code",
   "execution_count": 14,
   "metadata": {
    "collapsed": true
   },
   "outputs": [],
   "source": [
    "#Defining new df's so that I can see later the sundays for which I have to predict the value\n",
    "ds_NS = ds[ds.dayofweek!=7]\n",
    "test_NS = test[test.dayofweek!=7]"
   ]
  },
  {
   "cell_type": "code",
   "execution_count": 15,
   "metadata": {
    "collapsed": true
   },
   "outputs": [],
   "source": [
    "def days_mod_7(x,y):\n",
    "    #Computes the days between two dates counting weeks as as 6 days. Takes two timestamps.\n",
    "    days = (x-y).days\n",
    "    return days - np.floor(days/7)"
   ]
  },
  {
   "cell_type": "code",
   "execution_count": null,
   "metadata": {
    "collapsed": true
   },
   "outputs": [],
   "source": [
    "#I konw this will give me a warning, but it does do what it is supposed to do\n",
    "ds_NS['ndays'] = ds_NS.date.apply(lambda x: days_mod_7(x,min_date))\n",
    "test_NS['ndays'] = test_NS.date.apply(lambda x: days_mod_7(x,min_date))"
   ]
  },
  {
   "cell_type": "code",
   "execution_count": 17,
   "metadata": {
    "collapsed": true
   },
   "outputs": [],
   "source": [
    "#Average customer values per store, month and year, for days with customers\n",
    "cust = ds_NS.groupby(['store']).agg({\n",
    "        'customers':{\n",
    "            'cust_store':lambda y: np.mean([x for x in y if x!=0])\n",
    "        }\n",
    "    })\n",
    "cust.columns = cust.columns.get_level_values(1)\n",
    "cust.reset_index(inplace=True)\n",
    "\n",
    "cust_month = ds_NS.groupby(['store','month']).agg({\n",
    "        'customers':{\n",
    "            'cust_month':lambda y: np.mean([x for x in y if x!=0])\n",
    "        }\n",
    "    })\n",
    "cust_month.columns = cust_month.columns.get_level_values(1)\n",
    "cust_month.reset_index(inplace=True)\n",
    "\n",
    "cust_year = ds_NS.groupby(['store','year']).agg({\n",
    "        'customers':{\n",
    "            'cust_year':lambda y: np.mean([x for x in y if x!=0])\n",
    "        }\n",
    "    })\n",
    "cust_year.columns = cust_year.columns.get_level_values(1)\n",
    "cust_year.reset_index(inplace=True)"
   ]
  },
  {
   "cell_type": "code",
   "execution_count": 18,
   "metadata": {
    "collapsed": true
   },
   "outputs": [],
   "source": [
    "#Merging to set the new features\n",
    "ds_NS = pd.merge(ds_NS,cust,on=['store'])\n",
    "ds_NS = pd.merge(ds_NS,cust_month,on=['store','month'])\n",
    "ds_NS = pd.merge(ds_NS,cust_year,on=['store','year'])\n",
    "\n",
    "test_NS = pd.merge(test_NS,cust,on=['store'])\n",
    "test_NS = pd.merge(test_NS,cust_month,on=['store','month'])\n",
    "test_NS = pd.merge(test_NS,cust_year,on=['store','year'])"
   ]
  },
  {
   "cell_type": "code",
   "execution_count": 19,
   "metadata": {
    "collapsed": true
   },
   "outputs": [],
   "source": [
    "#Changing to numerical values\n",
    "storetype_dict = {'a':0.0,'b':1.0,'c':2.0,'d':3.0}\n",
    "ds_NS = ds_NS.replace({'storetype':storetype_dict})\n",
    "test_NS = test_NS.replace({'storetype':storetype_dict})"
   ]
  },
  {
   "cell_type": "code",
   "execution_count": 20,
   "metadata": {
    "collapsed": true
   },
   "outputs": [],
   "source": [
    "#Dropping columns I do not need anymore\n",
    "ds_NS = ds_NS.drop(['open','date','customers'],axis=1)\n",
    "test_NS = test_NS.drop(['open','date'],axis=1)"
   ]
  },
  {
   "cell_type": "code",
   "execution_count": 21,
   "metadata": {
    "collapsed": true
   },
   "outputs": [],
   "source": [
    "#Defining the measure that the challenge uses to test, i.e. rmspe\n",
    "\n",
    "def ToWeight(y):\n",
    "    '''Auxilliary to computing rmspe, computes the weight'''\n",
    "    w = np.zeros(y.shape, dtype=float)\n",
    "    ind = y != 0\n",
    "    w[ind] = 1./(y[ind]**2)\n",
    "    return w\n",
    "\n",
    "def rmspe(ytest, y):\n",
    "    '''Computes random mean square percentage error'''\n",
    "    w = ToWeight(y)\n",
    "    rmspe = np.sqrt(np.mean(w*(y-ytest)**2 ))\n",
    "    return rmspe\n",
    "\n",
    "def rmspe_xg(ytest, y):\n",
    "    '''rmspe to use in xgboost'''\n",
    "    # y = y.values\n",
    "    y = y.get_label()\n",
    "    y = np.exp(y) - 1\n",
    "    ytest = np.exp(ytest) - 1\n",
    "    w = ToWeight(y)\n",
    "    rmspe = np.sqrt(np.mean(w*(y-ytest)**2))\n",
    "    return \"rmspe\", rmspe"
   ]
  },
  {
   "cell_type": "markdown",
   "metadata": {},
   "source": [
    "I will prepare here the set to train the model. I will use xgboost. Whereas I will predict \"by hand\" that on sundays the sales will be 0."
   ]
  },
  {
   "cell_type": "code",
   "execution_count": 22,
   "metadata": {
    "collapsed": false
   },
   "outputs": [
    {
     "data": {
      "text/html": [
       "<div>\n",
       "<table border=\"1\" class=\"dataframe\">\n",
       "  <thead>\n",
       "    <tr style=\"text-align: right;\">\n",
       "      <th></th>\n",
       "      <th>id</th>\n",
       "      <th>store</th>\n",
       "      <th>dayofweek</th>\n",
       "      <th>promo</th>\n",
       "      <th>storetype</th>\n",
       "      <th>competitiondistance</th>\n",
       "      <th>year</th>\n",
       "      <th>month</th>\n",
       "      <th>dayofmonth</th>\n",
       "      <th>ndays</th>\n",
       "      <th>cust_store</th>\n",
       "      <th>cust_month</th>\n",
       "      <th>cust_year</th>\n",
       "    </tr>\n",
       "  </thead>\n",
       "  <tbody>\n",
       "    <tr>\n",
       "      <th>0</th>\n",
       "      <td>1</td>\n",
       "      <td>1</td>\n",
       "      <td>4</td>\n",
       "      <td>1</td>\n",
       "      <td>2</td>\n",
       "      <td>1270</td>\n",
       "      <td>2015</td>\n",
       "      <td>9</td>\n",
       "      <td>17</td>\n",
       "      <td>847</td>\n",
       "      <td>564.049936</td>\n",
       "      <td>510.980392</td>\n",
       "      <td>531.171429</td>\n",
       "    </tr>\n",
       "    <tr>\n",
       "      <th>41</th>\n",
       "      <td>2</td>\n",
       "      <td>3</td>\n",
       "      <td>4</td>\n",
       "      <td>1</td>\n",
       "      <td>0</td>\n",
       "      <td>14130</td>\n",
       "      <td>2015</td>\n",
       "      <td>9</td>\n",
       "      <td>17</td>\n",
       "      <td>847</td>\n",
       "      <td>750.077022</td>\n",
       "      <td>725.568627</td>\n",
       "      <td>722.668571</td>\n",
       "    </tr>\n",
       "    <tr>\n",
       "      <th>82</th>\n",
       "      <td>3</td>\n",
       "      <td>7</td>\n",
       "      <td>4</td>\n",
       "      <td>1</td>\n",
       "      <td>0</td>\n",
       "      <td>24000</td>\n",
       "      <td>2015</td>\n",
       "      <td>9</td>\n",
       "      <td>17</td>\n",
       "      <td>847</td>\n",
       "      <td>948.561069</td>\n",
       "      <td>951.823529</td>\n",
       "      <td>931.079545</td>\n",
       "    </tr>\n",
       "    <tr>\n",
       "      <th>123</th>\n",
       "      <td>4</td>\n",
       "      <td>8</td>\n",
       "      <td>4</td>\n",
       "      <td>1</td>\n",
       "      <td>0</td>\n",
       "      <td>7520</td>\n",
       "      <td>2015</td>\n",
       "      <td>9</td>\n",
       "      <td>17</td>\n",
       "      <td>847</td>\n",
       "      <td>658.197704</td>\n",
       "      <td>642.039216</td>\n",
       "      <td>719.596591</td>\n",
       "    </tr>\n",
       "    <tr>\n",
       "      <th>164</th>\n",
       "      <td>5</td>\n",
       "      <td>9</td>\n",
       "      <td>4</td>\n",
       "      <td>1</td>\n",
       "      <td>0</td>\n",
       "      <td>2030</td>\n",
       "      <td>2015</td>\n",
       "      <td>9</td>\n",
       "      <td>17</td>\n",
       "      <td>847</td>\n",
       "      <td>579.816431</td>\n",
       "      <td>563.294118</td>\n",
       "      <td>643.182857</td>\n",
       "    </tr>\n",
       "  </tbody>\n",
       "</table>\n",
       "</div>"
      ],
      "text/plain": [
       "     id  store  dayofweek  promo  storetype  competitiondistance  year  month  \\\n",
       "0     1      1          4      1          2                 1270  2015      9   \n",
       "41    2      3          4      1          0                14130  2015      9   \n",
       "82    3      7          4      1          0                24000  2015      9   \n",
       "123   4      8          4      1          0                 7520  2015      9   \n",
       "164   5      9          4      1          0                 2030  2015      9   \n",
       "\n",
       "     dayofmonth  ndays  cust_store  cust_month   cust_year  \n",
       "0            17    847  564.049936  510.980392  531.171429  \n",
       "41           17    847  750.077022  725.568627  722.668571  \n",
       "82           17    847  948.561069  951.823529  931.079545  \n",
       "123          17    847  658.197704  642.039216  719.596591  \n",
       "164          17    847  579.816431  563.294118  643.182857  "
      ]
     },
     "execution_count": 22,
     "metadata": {},
     "output_type": "execute_result"
    }
   ],
   "source": [
    "test_NS.sort_values('id').head()"
   ]
  },
  {
   "cell_type": "code",
   "execution_count": 23,
   "metadata": {
    "collapsed": false
   },
   "outputs": [
    {
     "data": {
      "text/html": [
       "<div>\n",
       "<table border=\"1\" class=\"dataframe\">\n",
       "  <thead>\n",
       "    <tr style=\"text-align: right;\">\n",
       "      <th></th>\n",
       "      <th>store</th>\n",
       "      <th>dayofweek</th>\n",
       "      <th>sales</th>\n",
       "      <th>promo</th>\n",
       "      <th>storetype</th>\n",
       "      <th>competitiondistance</th>\n",
       "      <th>year</th>\n",
       "      <th>month</th>\n",
       "      <th>dayofmonth</th>\n",
       "      <th>ndays</th>\n",
       "      <th>cust_store</th>\n",
       "      <th>cust_month</th>\n",
       "      <th>cust_year</th>\n",
       "    </tr>\n",
       "  </thead>\n",
       "  <tbody>\n",
       "    <tr>\n",
       "      <th>0</th>\n",
       "      <td>1</td>\n",
       "      <td>5</td>\n",
       "      <td>5263</td>\n",
       "      <td>1</td>\n",
       "      <td>2</td>\n",
       "      <td>1270</td>\n",
       "      <td>2015</td>\n",
       "      <td>7</td>\n",
       "      <td>31</td>\n",
       "      <td>806</td>\n",
       "      <td>564.049936</td>\n",
       "      <td>528.061728</td>\n",
       "      <td>531.171429</td>\n",
       "    </tr>\n",
       "    <tr>\n",
       "      <th>1</th>\n",
       "      <td>1</td>\n",
       "      <td>4</td>\n",
       "      <td>5020</td>\n",
       "      <td>1</td>\n",
       "      <td>2</td>\n",
       "      <td>1270</td>\n",
       "      <td>2015</td>\n",
       "      <td>7</td>\n",
       "      <td>30</td>\n",
       "      <td>805</td>\n",
       "      <td>564.049936</td>\n",
       "      <td>528.061728</td>\n",
       "      <td>531.171429</td>\n",
       "    </tr>\n",
       "    <tr>\n",
       "      <th>2</th>\n",
       "      <td>1</td>\n",
       "      <td>3</td>\n",
       "      <td>4782</td>\n",
       "      <td>1</td>\n",
       "      <td>2</td>\n",
       "      <td>1270</td>\n",
       "      <td>2015</td>\n",
       "      <td>7</td>\n",
       "      <td>29</td>\n",
       "      <td>804</td>\n",
       "      <td>564.049936</td>\n",
       "      <td>528.061728</td>\n",
       "      <td>531.171429</td>\n",
       "    </tr>\n",
       "    <tr>\n",
       "      <th>3</th>\n",
       "      <td>1</td>\n",
       "      <td>2</td>\n",
       "      <td>5011</td>\n",
       "      <td>1</td>\n",
       "      <td>2</td>\n",
       "      <td>1270</td>\n",
       "      <td>2015</td>\n",
       "      <td>7</td>\n",
       "      <td>28</td>\n",
       "      <td>804</td>\n",
       "      <td>564.049936</td>\n",
       "      <td>528.061728</td>\n",
       "      <td>531.171429</td>\n",
       "    </tr>\n",
       "    <tr>\n",
       "      <th>4</th>\n",
       "      <td>1</td>\n",
       "      <td>1</td>\n",
       "      <td>6102</td>\n",
       "      <td>1</td>\n",
       "      <td>2</td>\n",
       "      <td>1270</td>\n",
       "      <td>2015</td>\n",
       "      <td>7</td>\n",
       "      <td>27</td>\n",
       "      <td>803</td>\n",
       "      <td>564.049936</td>\n",
       "      <td>528.061728</td>\n",
       "      <td>531.171429</td>\n",
       "    </tr>\n",
       "  </tbody>\n",
       "</table>\n",
       "</div>"
      ],
      "text/plain": [
       "   store  dayofweek  sales  promo  storetype  competitiondistance  year  \\\n",
       "0      1          5   5263      1          2                 1270  2015   \n",
       "1      1          4   5020      1          2                 1270  2015   \n",
       "2      1          3   4782      1          2                 1270  2015   \n",
       "3      1          2   5011      1          2                 1270  2015   \n",
       "4      1          1   6102      1          2                 1270  2015   \n",
       "\n",
       "   month  dayofmonth  ndays  cust_store  cust_month   cust_year  \n",
       "0      7          31    806  564.049936  528.061728  531.171429  \n",
       "1      7          30    805  564.049936  528.061728  531.171429  \n",
       "2      7          29    804  564.049936  528.061728  531.171429  \n",
       "3      7          28    804  564.049936  528.061728  531.171429  \n",
       "4      7          27    803  564.049936  528.061728  531.171429  "
      ]
     },
     "execution_count": 23,
     "metadata": {},
     "output_type": "execute_result"
    }
   ],
   "source": [
    "ds_NS.head()"
   ]
  },
  {
   "cell_type": "code",
   "execution_count": 24,
   "metadata": {
    "collapsed": true
   },
   "outputs": [],
   "source": [
    "features = ds_NS.drop('sales',axis=1).columns"
   ]
  },
  {
   "cell_type": "code",
   "execution_count": 26,
   "metadata": {
    "collapsed": false
   },
   "outputs": [
    {
     "data": {
      "text/plain": [
       "Index([u'store', u'dayofweek', u'promo', u'storetype', u'competitiondistance',\n",
       "       u'year', u'month', u'dayofmonth', u'ndays', u'cust_store',\n",
       "       u'cust_month', u'cust_year'],\n",
       "      dtype='object')"
      ]
     },
     "execution_count": 26,
     "metadata": {},
     "output_type": "execute_result"
    }
   ],
   "source": [
    "features"
   ]
  },
  {
   "cell_type": "markdown",
   "metadata": {},
   "source": [
    "I will use boosted trees to model and make predictions. The kaggle challenge asks to minimize the root mean square percentage error (RMSPE) instead of RMSE: in order to use this I will predict the log of the sales and then take the exponential of my results."
   ]
  },
  {
   "cell_type": "code",
   "execution_count": 28,
   "metadata": {
    "collapsed": true
   },
   "outputs": [],
   "source": [
    "'''Parameters for xgboost. Ideally one can use more trees (I had an example with 2000) and possibly rescale eta for\n",
    "more precise results, leaving these parameters here for now. Notice that the training might still take several minutes\n",
    "with these parameters'''\n",
    "\n",
    "params = {\"objective\": \"reg:linear\",\n",
    "          \"eta\": .05,\n",
    "          \"max_depth\": 10,\n",
    "          \"subsample\": 0.9,\n",
    "          \"colsample_bytree\": 0.7,\n",
    "          \"silent\": 1\n",
    "          }\n",
    "num_trees = 200"
   ]
  },
  {
   "cell_type": "code",
   "execution_count": 29,
   "metadata": {
    "collapsed": false
   },
   "outputs": [],
   "source": [
    "from sklearn import cross_validation\n",
    "\n",
    "'''Setting a training set and crossvalidation. Notice that I used only the stores that are in the test to train my\n",
    "model for simplicity. This can clearly be easily modified.'''\n",
    "\n",
    "X_train, X_test = cross_validation.train_test_split(ds_NS[ds_NS.store.isin(test_NS.store.unique())], test_size=0.03)"
   ]
  },
  {
   "cell_type": "code",
   "execution_count": 30,
   "metadata": {
    "collapsed": false
   },
   "outputs": [],
   "source": [
    "dtrain = xgb.DMatrix(X_train[features], np.log(X_train[\"sales\"] + 1))\n",
    "dvalid = xgb.DMatrix(X_test[features], np.log(X_test[\"sales\"] + 1))\n",
    "dtest = xgb.DMatrix(test_NS[features])\n",
    "watchlist = [(dvalid, 'eval'), (dtrain, 'train')]"
   ]
  },
  {
   "cell_type": "code",
   "execution_count": 31,
   "metadata": {
    "collapsed": false
   },
   "outputs": [
    {
     "name": "stderr",
     "output_type": "stream",
     "text": [
      "Will train until train error hasn't decreased in 50 rounds.\n",
      "[0]\teval-rmspe:0.982772\ttrain-rmspe:0.981925\n",
      "[1]\teval-rmspe:0.982579\ttrain-rmspe:0.981733\n",
      "[2]\teval-rmspe:0.982311\ttrain-rmspe:0.981467\n",
      "[3]\teval-rmspe:0.981944\ttrain-rmspe:0.981102\n",
      "[4]\teval-rmspe:0.981460\ttrain-rmspe:0.980620\n",
      "[5]\teval-rmspe:0.980825\ttrain-rmspe:0.979990\n",
      "[6]\teval-rmspe:0.980008\ttrain-rmspe:0.979178\n",
      "[7]\teval-rmspe:0.978963\ttrain-rmspe:0.978139\n",
      "[8]\teval-rmspe:0.977653\ttrain-rmspe:0.976837\n",
      "[9]\teval-rmspe:0.976064\ttrain-rmspe:0.975259\n",
      "[10]\teval-rmspe:0.974117\ttrain-rmspe:0.973323\n",
      "[11]\teval-rmspe:0.971738\ttrain-rmspe:0.970959\n",
      "[12]\teval-rmspe:0.968961\ttrain-rmspe:0.968195\n",
      "[13]\teval-rmspe:0.965647\ttrain-rmspe:0.964902\n",
      "[14]\teval-rmspe:0.961783\ttrain-rmspe:0.961061\n",
      "[15]\teval-rmspe:0.957305\ttrain-rmspe:0.956607\n",
      "[16]\teval-rmspe:0.952175\ttrain-rmspe:0.951509\n",
      "[17]\teval-rmspe:0.946510\ttrain-rmspe:0.945875\n",
      "[18]\teval-rmspe:0.940157\ttrain-rmspe:0.939554\n",
      "[19]\teval-rmspe:0.933112\ttrain-rmspe:0.932547\n",
      "[20]\teval-rmspe:0.925135\ttrain-rmspe:0.924613\n",
      "[21]\teval-rmspe:0.916637\ttrain-rmspe:0.916157\n",
      "[22]\teval-rmspe:0.907469\ttrain-rmspe:0.907040\n",
      "[23]\teval-rmspe:0.897210\ttrain-rmspe:0.896836\n",
      "[24]\teval-rmspe:0.886578\ttrain-rmspe:0.886264\n",
      "[25]\teval-rmspe:0.874827\ttrain-rmspe:0.874580\n",
      "[26]\teval-rmspe:0.862670\ttrain-rmspe:0.862475\n",
      "[27]\teval-rmspe:0.849783\ttrain-rmspe:0.849662\n",
      "[28]\teval-rmspe:0.835970\ttrain-rmspe:0.835922\n",
      "[29]\teval-rmspe:0.821645\ttrain-rmspe:0.821670\n",
      "[30]\teval-rmspe:0.807445\ttrain-rmspe:0.807537\n",
      "[31]\teval-rmspe:0.791856\ttrain-rmspe:0.792025\n",
      "[32]\teval-rmspe:0.776295\ttrain-rmspe:0.776526\n",
      "[33]\teval-rmspe:0.760438\ttrain-rmspe:0.760737\n",
      "[34]\teval-rmspe:0.743918\ttrain-rmspe:0.744304\n",
      "[35]\teval-rmspe:0.727074\ttrain-rmspe:0.727539\n",
      "[36]\teval-rmspe:0.709856\ttrain-rmspe:0.710397\n",
      "[37]\teval-rmspe:0.692605\ttrain-rmspe:0.693238\n",
      "[38]\teval-rmspe:0.675833\ttrain-rmspe:0.676555\n",
      "[39]\teval-rmspe:0.658766\ttrain-rmspe:0.659578\n",
      "[40]\teval-rmspe:0.641730\ttrain-rmspe:0.642590\n",
      "[41]\teval-rmspe:0.624827\ttrain-rmspe:0.625765\n",
      "[42]\teval-rmspe:0.607627\ttrain-rmspe:0.608655\n",
      "[43]\teval-rmspe:0.590970\ttrain-rmspe:0.592082\n",
      "[44]\teval-rmspe:0.574246\ttrain-rmspe:0.575463\n",
      "[45]\teval-rmspe:0.557022\ttrain-rmspe:0.558333\n",
      "[46]\teval-rmspe:0.541320\ttrain-rmspe:0.542718\n",
      "[47]\teval-rmspe:0.524639\ttrain-rmspe:0.526116\n",
      "[48]\teval-rmspe:0.508624\ttrain-rmspe:0.510186\n",
      "[49]\teval-rmspe:0.493552\ttrain-rmspe:0.495213\n",
      "[50]\teval-rmspe:0.478671\ttrain-rmspe:0.480436\n",
      "[51]\teval-rmspe:0.464541\ttrain-rmspe:0.466397\n",
      "[52]\teval-rmspe:0.449843\ttrain-rmspe:0.451800\n",
      "[53]\teval-rmspe:0.435625\ttrain-rmspe:0.437655\n",
      "[54]\teval-rmspe:0.422499\ttrain-rmspe:0.424628\n",
      "[55]\teval-rmspe:0.410038\ttrain-rmspe:0.412242\n",
      "[56]\teval-rmspe:0.397729\ttrain-rmspe:0.400013\n",
      "[57]\teval-rmspe:0.385854\ttrain-rmspe:0.388175\n",
      "[58]\teval-rmspe:0.374496\ttrain-rmspe:0.376866\n",
      "[59]\teval-rmspe:0.362982\ttrain-rmspe:0.365450\n",
      "[60]\teval-rmspe:0.352166\ttrain-rmspe:0.354716\n",
      "[61]\teval-rmspe:0.341504\ttrain-rmspe:0.344138\n",
      "[62]\teval-rmspe:0.331550\ttrain-rmspe:0.334265\n",
      "[63]\teval-rmspe:0.322248\ttrain-rmspe:0.325024\n",
      "[64]\teval-rmspe:0.313211\ttrain-rmspe:0.316050\n",
      "[65]\teval-rmspe:0.304463\ttrain-rmspe:0.307383\n",
      "[66]\teval-rmspe:0.296541\ttrain-rmspe:0.299556\n",
      "[67]\teval-rmspe:0.288456\ttrain-rmspe:0.291505\n",
      "[68]\teval-rmspe:0.281568\ttrain-rmspe:0.284670\n",
      "[69]\teval-rmspe:0.274126\ttrain-rmspe:0.277204\n",
      "[70]\teval-rmspe:0.267898\ttrain-rmspe:0.271084\n",
      "[71]\teval-rmspe:0.262051\ttrain-rmspe:0.265258\n",
      "[72]\teval-rmspe:0.256088\ttrain-rmspe:0.259341\n",
      "[73]\teval-rmspe:0.250719\ttrain-rmspe:0.254017\n",
      "[74]\teval-rmspe:0.245474\ttrain-rmspe:0.248793\n",
      "[75]\teval-rmspe:0.240816\ttrain-rmspe:0.244191\n",
      "[76]\teval-rmspe:0.236556\ttrain-rmspe:0.239947\n",
      "[77]\teval-rmspe:0.232624\ttrain-rmspe:0.236033\n",
      "[78]\teval-rmspe:0.228727\ttrain-rmspe:0.232180\n",
      "[79]\teval-rmspe:0.224627\ttrain-rmspe:0.228093\n",
      "[80]\teval-rmspe:0.221034\ttrain-rmspe:0.224509\n",
      "[81]\teval-rmspe:0.217854\ttrain-rmspe:0.221398\n",
      "[82]\teval-rmspe:0.214589\ttrain-rmspe:0.218171\n",
      "[83]\teval-rmspe:0.211813\ttrain-rmspe:0.215450\n",
      "[84]\teval-rmspe:0.208876\ttrain-rmspe:0.212515\n",
      "[85]\teval-rmspe:0.206454\ttrain-rmspe:0.210112\n",
      "[86]\teval-rmspe:0.204130\ttrain-rmspe:0.207814\n",
      "[87]\teval-rmspe:0.202089\ttrain-rmspe:0.205784\n",
      "[88]\teval-rmspe:0.200188\ttrain-rmspe:0.203927\n",
      "[89]\teval-rmspe:0.198282\ttrain-rmspe:0.202015\n",
      "[90]\teval-rmspe:0.196719\ttrain-rmspe:0.200477\n",
      "[91]\teval-rmspe:0.195347\ttrain-rmspe:0.199082\n",
      "[92]\teval-rmspe:0.193747\ttrain-rmspe:0.197503\n",
      "[93]\teval-rmspe:0.192284\ttrain-rmspe:0.196039\n",
      "[94]\teval-rmspe:0.190962\ttrain-rmspe:0.194719\n",
      "[95]\teval-rmspe:0.189888\ttrain-rmspe:0.193658\n",
      "[96]\teval-rmspe:0.188953\ttrain-rmspe:0.192740\n",
      "[97]\teval-rmspe:0.187849\ttrain-rmspe:0.191631\n",
      "[98]\teval-rmspe:0.186987\ttrain-rmspe:0.190749\n",
      "[99]\teval-rmspe:0.186000\ttrain-rmspe:0.189739\n",
      "[100]\teval-rmspe:0.185244\ttrain-rmspe:0.189016\n",
      "[101]\teval-rmspe:0.184457\ttrain-rmspe:0.188196\n",
      "[102]\teval-rmspe:0.183711\ttrain-rmspe:0.187460\n",
      "[103]\teval-rmspe:0.183131\ttrain-rmspe:0.186860\n",
      "[104]\teval-rmspe:0.182290\ttrain-rmspe:0.185981\n",
      "[105]\teval-rmspe:0.181479\ttrain-rmspe:0.185221\n",
      "[106]\teval-rmspe:0.181026\ttrain-rmspe:0.184750\n",
      "[107]\teval-rmspe:0.180170\ttrain-rmspe:0.183815\n",
      "[108]\teval-rmspe:0.179701\ttrain-rmspe:0.183326\n",
      "[109]\teval-rmspe:0.178738\ttrain-rmspe:0.182389\n",
      "[110]\teval-rmspe:0.178219\ttrain-rmspe:0.181865\n",
      "[111]\teval-rmspe:0.177886\ttrain-rmspe:0.181517\n",
      "[112]\teval-rmspe:0.177500\ttrain-rmspe:0.181093\n",
      "[113]\teval-rmspe:0.176786\ttrain-rmspe:0.180409\n",
      "[114]\teval-rmspe:0.176442\ttrain-rmspe:0.180077\n",
      "[115]\teval-rmspe:0.176105\ttrain-rmspe:0.179714\n",
      "[116]\teval-rmspe:0.175689\ttrain-rmspe:0.179272\n",
      "[117]\teval-rmspe:0.175405\ttrain-rmspe:0.178981\n",
      "[118]\teval-rmspe:0.175181\ttrain-rmspe:0.178745\n",
      "[119]\teval-rmspe:0.175019\ttrain-rmspe:0.178538\n",
      "[120]\teval-rmspe:0.174592\ttrain-rmspe:0.178172\n",
      "[121]\teval-rmspe:0.174317\ttrain-rmspe:0.177883\n",
      "[122]\teval-rmspe:0.174077\ttrain-rmspe:0.177614\n",
      "[123]\teval-rmspe:0.173836\ttrain-rmspe:0.177376\n",
      "[124]\teval-rmspe:0.173537\ttrain-rmspe:0.177083\n",
      "[125]\teval-rmspe:0.173289\ttrain-rmspe:0.176773\n",
      "[126]\teval-rmspe:0.172811\ttrain-rmspe:0.176293\n",
      "[127]\teval-rmspe:0.172612\ttrain-rmspe:0.176088\n",
      "[128]\teval-rmspe:0.172295\ttrain-rmspe:0.175782\n",
      "[129]\teval-rmspe:0.172093\ttrain-rmspe:0.175551\n",
      "[130]\teval-rmspe:0.171698\ttrain-rmspe:0.175144\n",
      "[131]\teval-rmspe:0.171568\ttrain-rmspe:0.174991\n",
      "[132]\teval-rmspe:0.171432\ttrain-rmspe:0.174824\n",
      "[133]\teval-rmspe:0.171219\ttrain-rmspe:0.174555\n",
      "[134]\teval-rmspe:0.170947\ttrain-rmspe:0.174301\n",
      "[135]\teval-rmspe:0.170647\ttrain-rmspe:0.173972\n",
      "[136]\teval-rmspe:0.170359\ttrain-rmspe:0.173660\n",
      "[137]\teval-rmspe:0.170160\ttrain-rmspe:0.173471\n",
      "[138]\teval-rmspe:0.170028\ttrain-rmspe:0.173331\n",
      "[139]\teval-rmspe:0.169725\ttrain-rmspe:0.172995\n",
      "[140]\teval-rmspe:0.169541\ttrain-rmspe:0.172790\n",
      "[141]\teval-rmspe:0.169386\ttrain-rmspe:0.172585\n",
      "[142]\teval-rmspe:0.169186\ttrain-rmspe:0.171612\n",
      "[143]\teval-rmspe:0.168863\ttrain-rmspe:0.171225\n",
      "[144]\teval-rmspe:0.168732\ttrain-rmspe:0.171054\n",
      "[145]\teval-rmspe:0.168479\ttrain-rmspe:0.170807\n",
      "[146]\teval-rmspe:0.168035\ttrain-rmspe:0.170341\n",
      "[147]\teval-rmspe:0.167865\ttrain-rmspe:0.170110\n",
      "[148]\teval-rmspe:0.167777\ttrain-rmspe:0.169997\n",
      "[149]\teval-rmspe:0.167646\ttrain-rmspe:0.169815\n",
      "[150]\teval-rmspe:0.167439\ttrain-rmspe:0.169516\n",
      "[151]\teval-rmspe:0.167319\ttrain-rmspe:0.169367\n",
      "[152]\teval-rmspe:0.167221\ttrain-rmspe:0.169261\n",
      "[153]\teval-rmspe:0.166830\ttrain-rmspe:0.168859\n",
      "[154]\teval-rmspe:0.166719\ttrain-rmspe:0.168719\n",
      "[155]\teval-rmspe:0.166270\ttrain-rmspe:0.168274\n",
      "[156]\teval-rmspe:0.166091\ttrain-rmspe:0.168078\n",
      "[157]\teval-rmspe:0.165951\ttrain-rmspe:0.167914\n",
      "[158]\teval-rmspe:0.165795\ttrain-rmspe:0.167690\n",
      "[159]\teval-rmspe:0.165449\ttrain-rmspe:0.167354\n",
      "[160]\teval-rmspe:0.165394\ttrain-rmspe:0.167282\n",
      "[161]\teval-rmspe:0.165133\ttrain-rmspe:0.167013\n",
      "[162]\teval-rmspe:0.164952\ttrain-rmspe:0.166808\n",
      "[163]\teval-rmspe:0.164876\ttrain-rmspe:0.166687\n",
      "[164]\teval-rmspe:0.164735\ttrain-rmspe:0.166529\n",
      "[165]\teval-rmspe:0.164407\ttrain-rmspe:0.166243\n",
      "[166]\teval-rmspe:0.164394\ttrain-rmspe:0.166192\n",
      "[167]\teval-rmspe:0.164163\ttrain-rmspe:0.165974\n",
      "[168]\teval-rmspe:0.163890\ttrain-rmspe:0.165666\n",
      "[169]\teval-rmspe:0.163795\ttrain-rmspe:0.165537\n",
      "[170]\teval-rmspe:0.163377\ttrain-rmspe:0.165123\n",
      "[171]\teval-rmspe:0.163202\ttrain-rmspe:0.164953\n",
      "[172]\teval-rmspe:0.162818\ttrain-rmspe:0.164606\n",
      "[173]\teval-rmspe:0.162686\ttrain-rmspe:0.164456\n",
      "[174]\teval-rmspe:0.162530\ttrain-rmspe:0.164268\n",
      "[175]\teval-rmspe:0.161967\ttrain-rmspe:0.163760\n",
      "[176]\teval-rmspe:0.161824\ttrain-rmspe:0.163545\n",
      "[177]\teval-rmspe:0.161733\ttrain-rmspe:0.163421\n",
      "[178]\teval-rmspe:0.161672\ttrain-rmspe:0.163317\n",
      "[179]\teval-rmspe:0.161527\ttrain-rmspe:0.163146\n",
      "[180]\teval-rmspe:0.161375\ttrain-rmspe:0.162910\n",
      "[181]\teval-rmspe:0.161262\ttrain-rmspe:0.162789\n",
      "[182]\teval-rmspe:0.161189\ttrain-rmspe:0.162683\n",
      "[183]\teval-rmspe:0.161108\ttrain-rmspe:0.162592\n",
      "[184]\teval-rmspe:0.161043\ttrain-rmspe:0.162501\n",
      "[185]\teval-rmspe:0.160896\ttrain-rmspe:0.162348\n",
      "[186]\teval-rmspe:0.160889\ttrain-rmspe:0.162250\n",
      "[187]\teval-rmspe:0.160732\ttrain-rmspe:0.162080\n",
      "[188]\teval-rmspe:0.160589\ttrain-rmspe:0.161945\n",
      "[189]\teval-rmspe:0.160548\ttrain-rmspe:0.161874\n",
      "[190]\teval-rmspe:0.160086\ttrain-rmspe:0.161238\n",
      "[191]\teval-rmspe:0.160085\ttrain-rmspe:0.161207\n",
      "[192]\teval-rmspe:0.159996\ttrain-rmspe:0.161074\n",
      "[193]\teval-rmspe:0.159917\ttrain-rmspe:0.160984\n",
      "[194]\teval-rmspe:0.159828\ttrain-rmspe:0.160879\n",
      "[195]\teval-rmspe:0.159616\ttrain-rmspe:0.160677\n",
      "[196]\teval-rmspe:0.159505\ttrain-rmspe:0.160559\n",
      "[197]\teval-rmspe:0.159339\ttrain-rmspe:0.160358\n",
      "[198]\teval-rmspe:0.159222\ttrain-rmspe:0.160197\n",
      "[199]\teval-rmspe:0.159083\ttrain-rmspe:0.160037\n"
     ]
    }
   ],
   "source": [
    "#Training the model\n",
    "gbm = xgb.train(params, dtrain, num_trees, evals=watchlist, early_stopping_rounds=50, verbose_eval=True, feval=rmspe_xg)"
   ]
  },
  {
   "cell_type": "code",
   "execution_count": 32,
   "metadata": {
    "collapsed": false
   },
   "outputs": [
    {
     "name": "stdout",
     "output_type": "stream",
     "text": [
      "Validating\n",
      "0.159083291506\n"
     ]
    }
   ],
   "source": [
    "print \"Validating\"\n",
    "train_probs = gbm.predict(xgb.DMatrix(X_test[features]))\n",
    "indices = train_probs < 0\n",
    "train_probs[indices] = 0\n",
    "error = rmspe(np.exp(train_probs) - 1, X_test['sales'].values)\n",
    "print error"
   ]
  },
  {
   "cell_type": "code",
   "execution_count": 33,
   "metadata": {
    "collapsed": false
   },
   "outputs": [
    {
     "name": "stdout",
     "output_type": "stream",
     "text": [
      "Make predictions on the test set\n"
     ]
    }
   ],
   "source": [
    "print(\"Make predictions on the test set\")\n",
    "real_test = gbm.predict(xgb.DMatrix(test_NS[features]))"
   ]
  },
  {
   "cell_type": "code",
   "execution_count": 34,
   "metadata": {
    "collapsed": false
   },
   "outputs": [
    {
     "data": {
      "text/plain": [
       "35096"
      ]
     },
     "execution_count": 34,
     "metadata": {},
     "output_type": "execute_result"
    }
   ],
   "source": [
    "len(test_NS)"
   ]
  },
  {
   "cell_type": "code",
   "execution_count": 35,
   "metadata": {
    "collapsed": false
   },
   "outputs": [
    {
     "data": {
      "text/plain": [
       "35096"
      ]
     },
     "execution_count": 35,
     "metadata": {},
     "output_type": "execute_result"
    }
   ],
   "source": [
    "len(real_test)"
   ]
  },
  {
   "cell_type": "code",
   "execution_count": 36,
   "metadata": {
    "collapsed": true
   },
   "outputs": [],
   "source": [
    "#Taking expinentials and adding a column to test\n",
    "test_NS['Sales'] = np.exp(real_test)-1"
   ]
  },
  {
   "cell_type": "code",
   "execution_count": 37,
   "metadata": {
    "collapsed": true
   },
   "outputs": [],
   "source": [
    "#Setting the whole test df to zero. I will select only the Sundays from here.\n",
    "test['Sales'] = 0.0"
   ]
  },
  {
   "cell_type": "code",
   "execution_count": 38,
   "metadata": {
    "collapsed": true
   },
   "outputs": [],
   "source": [
    "#Generating solution my adding Sundays\n",
    "sol = pd.concat([\n",
    "        test.loc[test.dayofweek==7,['id','Sales']],\n",
    "        test_NS[['id','Sales']]\n",
    "    ])"
   ]
  },
  {
   "cell_type": "code",
   "execution_count": 39,
   "metadata": {
    "collapsed": false
   },
   "outputs": [
    {
     "data": {
      "text/html": [
       "<div>\n",
       "<table border=\"1\" class=\"dataframe\">\n",
       "  <thead>\n",
       "    <tr style=\"text-align: right;\">\n",
       "      <th></th>\n",
       "      <th>id</th>\n",
       "      <th>Sales</th>\n",
       "    </tr>\n",
       "  </thead>\n",
       "  <tbody>\n",
       "    <tr>\n",
       "      <th>4</th>\n",
       "      <td>3425</td>\n",
       "      <td>0</td>\n",
       "    </tr>\n",
       "    <tr>\n",
       "      <th>11</th>\n",
       "      <td>9417</td>\n",
       "      <td>0</td>\n",
       "    </tr>\n",
       "    <tr>\n",
       "      <th>18</th>\n",
       "      <td>15409</td>\n",
       "      <td>0</td>\n",
       "    </tr>\n",
       "    <tr>\n",
       "      <th>25</th>\n",
       "      <td>21401</td>\n",
       "      <td>0</td>\n",
       "    </tr>\n",
       "    <tr>\n",
       "      <th>32</th>\n",
       "      <td>27393</td>\n",
       "      <td>0</td>\n",
       "    </tr>\n",
       "  </tbody>\n",
       "</table>\n",
       "</div>"
      ],
      "text/plain": [
       "       id  Sales\n",
       "4    3425      0\n",
       "11   9417      0\n",
       "18  15409      0\n",
       "25  21401      0\n",
       "32  27393      0"
      ]
     },
     "execution_count": 39,
     "metadata": {},
     "output_type": "execute_result"
    }
   ],
   "source": [
    "sol.head()"
   ]
  },
  {
   "cell_type": "code",
   "execution_count": 40,
   "metadata": {
    "collapsed": false
   },
   "outputs": [
    {
     "data": {
      "text/plain": [
       "41088"
      ]
     },
     "execution_count": 40,
     "metadata": {},
     "output_type": "execute_result"
    }
   ],
   "source": [
    "len(sol)"
   ]
  },
  {
   "cell_type": "code",
   "execution_count": 41,
   "metadata": {
    "collapsed": false
   },
   "outputs": [
    {
     "data": {
      "text/plain": [
       "41088"
      ]
     },
     "execution_count": 41,
     "metadata": {},
     "output_type": "execute_result"
    }
   ],
   "source": [
    "sol.id.nunique()"
   ]
  },
  {
   "cell_type": "code",
   "execution_count": 42,
   "metadata": {
    "collapsed": false
   },
   "outputs": [],
   "source": [
    "duplicates = sol.set_index('id').index.get_duplicates()"
   ]
  },
  {
   "cell_type": "code",
   "execution_count": 43,
   "metadata": {
    "collapsed": false
   },
   "outputs": [
    {
     "data": {
      "text/plain": [
       "0"
      ]
     },
     "execution_count": 43,
     "metadata": {},
     "output_type": "execute_result"
    }
   ],
   "source": [
    "len(duplicates)"
   ]
  },
  {
   "cell_type": "code",
   "execution_count": 44,
   "metadata": {
    "collapsed": true
   },
   "outputs": [],
   "source": [
    "sol.columns = ['Id','Sales']"
   ]
  },
  {
   "cell_type": "code",
   "execution_count": 45,
   "metadata": {
    "collapsed": false
   },
   "outputs": [],
   "source": [
    "sol = sol.sort_values('Id').reset_index().drop('index',axis=1)"
   ]
  },
  {
   "cell_type": "code",
   "execution_count": 46,
   "metadata": {
    "collapsed": false
   },
   "outputs": [
    {
     "data": {
      "text/html": [
       "<div>\n",
       "<table border=\"1\" class=\"dataframe\">\n",
       "  <thead>\n",
       "    <tr style=\"text-align: right;\">\n",
       "      <th></th>\n",
       "      <th>Id</th>\n",
       "      <th>Sales</th>\n",
       "    </tr>\n",
       "  </thead>\n",
       "  <tbody>\n",
       "    <tr>\n",
       "      <th>0</th>\n",
       "      <td>1</td>\n",
       "      <td>4340.654785</td>\n",
       "    </tr>\n",
       "    <tr>\n",
       "      <th>1</th>\n",
       "      <td>2</td>\n",
       "      <td>7953.810547</td>\n",
       "    </tr>\n",
       "    <tr>\n",
       "      <th>2</th>\n",
       "      <td>3</td>\n",
       "      <td>9951.772461</td>\n",
       "    </tr>\n",
       "    <tr>\n",
       "      <th>3</th>\n",
       "      <td>4</td>\n",
       "      <td>7370.900391</td>\n",
       "    </tr>\n",
       "    <tr>\n",
       "      <th>4</th>\n",
       "      <td>5</td>\n",
       "      <td>6149.442871</td>\n",
       "    </tr>\n",
       "  </tbody>\n",
       "</table>\n",
       "</div>"
      ],
      "text/plain": [
       "   Id        Sales\n",
       "0   1  4340.654785\n",
       "1   2  7953.810547\n",
       "2   3  9951.772461\n",
       "3   4  7370.900391\n",
       "4   5  6149.442871"
      ]
     },
     "execution_count": 46,
     "metadata": {},
     "output_type": "execute_result"
    }
   ],
   "source": [
    "sol.head()"
   ]
  },
  {
   "cell_type": "code",
   "execution_count": 47,
   "metadata": {
    "collapsed": true
   },
   "outputs": [],
   "source": [
    "#Genereting the file to submit to kaggle\n",
    "sol.to_csv('solXGB200.csv',index=False)"
   ]
  },
  {
   "cell_type": "code",
   "execution_count": null,
   "metadata": {
    "collapsed": true
   },
   "outputs": [],
   "source": []
  }
 ],
 "metadata": {
  "kernelspec": {
   "display_name": "Python 2",
   "language": "python",
   "name": "python2"
  },
  "language_info": {
   "codemirror_mode": {
    "name": "ipython",
    "version": 2
   },
   "file_extension": ".py",
   "mimetype": "text/x-python",
   "name": "python",
   "nbconvert_exporter": "python",
   "pygments_lexer": "ipython2",
   "version": "2.7.11"
  }
 },
 "nbformat": 4,
 "nbformat_minor": 0
}
